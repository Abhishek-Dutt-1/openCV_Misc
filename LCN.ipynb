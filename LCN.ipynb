{
 "cells": [
  {
   "cell_type": "code",
   "execution_count": 2,
   "metadata": {
    "collapsed": true
   },
   "outputs": [],
   "source": [
    "require 'image';"
   ]
  },
  {
   "cell_type": "code",
   "execution_count": 38,
   "metadata": {
    "collapsed": false
   },
   "outputs": [],
   "source": [
    "function showLCN(f,factor)\n",
    "    local orig = image.load(f)\n",
    "    orig = image.scale(orig, 400*factor,300*factor)\n",
    "    local yuv = image.rgb2yuv(orig)\n",
    "    local grey = yuv[1]\n",
    "    print(torch.type(grey))\n",
    "    local lcn = image.lcn(grey,image.gaussian({size=21, sigma=1.591/9,normalize=true}))\n",
    "    --itorch.image(lcn)\n",
    "    local max = lcn:max()\n",
    "    local min = lcn:min()\n",
    "    local H,W = grey:size(1),grey:size(2)\n",
    "    local d = 10\n",
    "    lcn = (lcn-min)/(max-min)\n",
    "    grey:fill(0.5)\n",
    "    grey[{{d+1,H-d},{d+1,W-d}}] = lcn\n",
    "    return grey\n",
    "end"
   ]
  },
  {
   "cell_type": "code",
   "execution_count": 45,
   "metadata": {
    "collapsed": true
   },
   "outputs": [],
   "source": [
    "function lcnscale(f,factor)\n",
    "    local orig = image.load(f)\n",
    "    orig = image.scale(orig, 400*factor,300*factor)\n",
    "    local yuv = image.rgb2yuv(orig)\n",
    "    local grey = yuv[1]\n",
    "    return grey\n",
    "end"
   ]
  },
  {
   "cell_type": "code",
   "execution_count": 49,
   "metadata": {
    "collapsed": true
   },
   "outputs": [],
   "source": [
    "function lcnThresh(f,th)\n",
    "    local th = th or 0.5\n",
    "    local img = image.load(f)\n",
    "    img[img:gt(0.5)] = 1\n",
    "    img[img:lt(0.5)] = 0\n",
    "    return img\n",
    "end"
   ]
  },
  {
   "cell_type": "code",
   "execution_count": 54,
   "metadata": {
    "collapsed": false
   },
   "outputs": [
    {
     "data": {
      "text/plain": [
       "\n"
      ]
     },
     "execution_count": 54,
     "metadata": {},
     "output_type": "execute_result"
    }
   ],
   "source": [
    "image.save('lcnttest1.png',lcnThresh('lcntest1.png'))"
   ]
  },
  {
   "cell_type": "code",
   "execution_count": null,
   "metadata": {
    "collapsed": true
   },
   "outputs": [],
   "source": []
  },
  {
   "cell_type": "code",
   "execution_count": null,
   "metadata": {
    "collapsed": true
   },
   "outputs": [],
   "source": []
  }
 ],
 "metadata": {
  "kernelspec": {
   "display_name": "iTorch",
   "language": "lua",
   "name": "itorch"
  },
  "language_info": {
   "name": "lua",
   "version": "5.1"
  }
 },
 "nbformat": 4,
 "nbformat_minor": 0
}
