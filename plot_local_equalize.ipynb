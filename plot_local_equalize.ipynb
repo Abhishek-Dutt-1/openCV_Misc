{
  "cells": [
    {
      "metadata": {
        "collapsed": false
      },
      "outputs": [],
      "cell_type": "code",
      "source": [
        "%matplotlib inline"
      ],
      "execution_count": null
    },
    {
      "metadata": {},
      "cell_type": "markdown",
      "source": [
        "\n# Local Histogram Equalization\n\n\nThis examples enhances an image with low contrast, using a method called *local\nhistogram equalization*, which spreads out the most frequent intensity values\nin an image.\n\nThe equalized image [1]_ has a roughly linear cumulative distribution function\nfor each pixel neighborhood.\n\nThe local version [2]_ of the histogram equalization emphasized every local\ngraylevel variations.\n\nReferences\n----------\n.. [1] http://en.wikipedia.org/wiki/Histogram_equalization\n.. [2] http://en.wikipedia.org/wiki/Adaptive_histogram_equalization\n\n\n"
      ]
    },
    {
      "metadata": {
        "collapsed": false
      },
      "outputs": [],
      "cell_type": "code",
      "source": [
        "import numpy as np\nimport matplotlib\nimport matplotlib.pyplot as plt\n\nfrom skimage import data\nfrom skimage.util.dtype import dtype_range\nfrom skimage.util import img_as_ubyte\nfrom skimage import exposure\nfrom skimage.morphology import disk\nfrom skimage.filters import rank\n\n\nmatplotlib.rcParams['font.size'] = 9\n\n\ndef plot_img_and_hist(img, axes, bins=256):\n    \"\"\"Plot an image along with its histogram and cumulative histogram.\n\n    \"\"\"\n    ax_img, ax_hist = axes\n    ax_cdf = ax_hist.twinx()\n\n    # Display image\n    ax_img.imshow(img, cmap=plt.cm.gray)\n    ax_img.set_axis_off()\n\n    # Display histogram\n    ax_hist.hist(img.ravel(), bins=bins)\n    ax_hist.ticklabel_format(axis='y', style='scientific', scilimits=(0, 0))\n    ax_hist.set_xlabel('Pixel intensity')\n\n    xmin, xmax = dtype_range[img.dtype.type]\n    ax_hist.set_xlim(xmin, xmax)\n\n    # Display cumulative distribution\n    img_cdf, bins = exposure.cumulative_distribution(img, bins)\n    ax_cdf.plot(bins, img_cdf, 'r')\n\n    return ax_img, ax_hist, ax_cdf\n\n\n# Load an example image\nimg = img_as_ubyte(data.moon())\n\n# Global equalize\nimg_rescale = exposure.equalize_hist(img)\n\n# Equalization\nselem = disk(30)\nimg_eq = rank.equalize(img, selem=selem)\n\n\n# Display results\nfig = plt.figure(figsize=(8, 5))\naxes = np.zeros((2, 3), dtype=np.object)\naxes[0, 0] = plt.subplot(2, 3, 1, adjustable='box-forced')\naxes[0, 1] = plt.subplot(2, 3, 2, sharex=axes[0, 0], sharey=axes[0, 0],\n                         adjustable='box-forced')\naxes[0, 2] = plt.subplot(2, 3, 3, sharex=axes[0, 0], sharey=axes[0, 0],\n                         adjustable='box-forced')\naxes[1, 0] = plt.subplot(2, 3, 4)\naxes[1, 1] = plt.subplot(2, 3, 5)\naxes[1, 2] = plt.subplot(2, 3, 6)\n\nax_img, ax_hist, ax_cdf = plot_img_and_hist(img, axes[:, 0])\nax_img.set_title('Low contrast image')\nax_hist.set_ylabel('Number of pixels')\n\nax_img, ax_hist, ax_cdf = plot_img_and_hist(img_rescale, axes[:, 1])\nax_img.set_title('Global equalise')\n\nax_img, ax_hist, ax_cdf = plot_img_and_hist(img_eq, axes[:, 2])\nax_img.set_title('Local equalize')\nax_cdf.set_ylabel('Fraction of total intensity')\n\n\n# prevent overlap of y-axis labels\nfig.tight_layout()\nplt.show()"
      ],
      "execution_count": null
    }
  ],
  "nbformat_minor": 0,
  "nbformat": 4,
  "metadata": {
    "kernelspec": {
      "display_name": "Python 3",
      "language": "python",
      "name": "python3"
    },
    "language_info": {
      "file_extension": ".py",
      "mimetype": "text/x-python",
      "nbconvert_exporter": "python",
      "version": "3.4.2",
      "codemirror_mode": {
        "version": 3,
        "name": "ipython"
      },
      "pygments_lexer": "ipython3",
      "name": "python"
    }
  }
}